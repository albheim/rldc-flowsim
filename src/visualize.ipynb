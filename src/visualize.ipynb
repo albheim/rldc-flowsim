{
 "metadata": {
  "language_info": {
   "codemirror_mode": {
    "name": "ipython",
    "version": 3
   },
   "file_extension": ".py",
   "mimetype": "text/x-python",
   "name": "python",
   "nbconvert_exporter": "python",
   "pygments_lexer": "ipython3",
   "version": "3.8.5-final"
  },
  "orig_nbformat": 2,
  "kernelspec": {
   "name": "python3",
   "display_name": "Python 3",
   "language": "python"
  }
 },
 "nbformat": 4,
 "nbformat_minor": 2,
 "cells": [
  {
   "cell_type": "code",
   "execution_count": null,
   "metadata": {},
   "outputs": [],
   "source": [
    "import os\n",
    "import glob\n",
    "import numpy as np\n",
    "import pandas as pd\n",
    "from tensorboard.backend.event_processing.event_accumulator import EventAccumulator\n",
    "\n",
    "from matplotlib import pyplot as plt\n",
    "import seaborn as sns\n",
    "from scipy import stats"
   ]
  },
  {
   "cell_type": "code",
   "execution_count": null,
   "metadata": {},
   "outputs": [],
   "source": [
    "def tflog2pandas(path: str) -> pd.DataFrame:\n",
    "    \"\"\"convert single tensorflow log file to pandas DataFrame\n",
    "    Parameters\n",
    "    ----------\n",
    "    path : str\n",
    "        path to tensorflow log file\n",
    "    Returns\n",
    "    -------\n",
    "    pd.DataFrame\n",
    "        converted dataframe\n",
    "    \"\"\"\n",
    "    DEFAULT_SIZE_GUIDANCE = {\n",
    "        \"compressedHistograms\": 1,\n",
    "        \"images\": 1,\n",
    "        \"scalars\": 0,  # 0 means load all\n",
    "        \"histograms\": 1,\n",
    "    }\n",
    "    runlog_data = pd.DataFrame({\"metric\": [], \"value\": [], \"step\": []})\n",
    "    try:\n",
    "        event_acc = EventAccumulator(path, DEFAULT_SIZE_GUIDANCE)\n",
    "        event_acc.Reload()\n",
    "        tags = event_acc.Tags()[\"scalars\"]\n",
    "        for tag in tags:\n",
    "            event_list = event_acc.Scalars(tag)\n",
    "            values = list(map(lambda x: x.value, event_list))\n",
    "            step = list(map(lambda x: x.step, event_list))\n",
    "            r = {\"metric\": [tag] * len(step), \"value\": values, \"step\": step}\n",
    "            r = pd.DataFrame(r)\n",
    "            runlog_data = pd.concat([runlog_data, r])\n",
    "    # Dirty catch of DataLossError\n",
    "    except Exception:\n",
    "        print(\"Event file possibly corrupt: {}\".format(path))\n",
    "        traceback.print_exc()\n",
    "    return runlog_data"
   ]
  },
  {
   "cell_type": "code",
   "execution_count": null,
   "metadata": {},
   "outputs": [],
   "source": [
    "def get_tblogs(data_id):\n",
    "    root_dir = \"/home/ubuntu/ray_results/PPO\"\n",
    "    exp_path = glob.glob(os.path.join(root_dir, \"*\" + data_id + \"*\", \"event*\"))\n",
    "    if len(exp_path) > 1:\n",
    "        print(\"Error: more than one experiments with that id found\")\n",
    "    df = tflog2pandas(exp_path[0])\n",
    "    df = df.pivot(index=\"step\", columns=\"metric\")\n",
    "    df_mean = df.filter(regex=(\".*(custom_metrics|reward).*_mean\"))\n",
    "    df_mean = df_mean.rename(columns={x: x[24:-5] if \"custom_metrics\" in x else x[9:-5] for _,x in df.columns})\n",
    "    return df_mean"
   ]
  },
  {
   "cell_type": "code",
   "execution_count": null,
   "metadata": {},
   "outputs": [],
   "source": [
    "def gen_plot_func(regex, title=\"\", xlabel=\"\", ylabel=\"\", ylim=None, figure=True):\n",
    "    def plot_func(df):\n",
    "        if figure:\n",
    "            plt.figure()\n",
    "        plt.plot(df.filter(regex=(regex)))\n",
    "        plt.ylim(ylim)\n",
    "        plt.title(title)\n",
    "        plt.xlabel(xlabel)\n",
    "        plt.ylabel(ylabel)\n",
    "    return plot_func"
   ]
  },
  {
   "cell_type": "code",
   "execution_count": null,
   "metadata": {},
   "outputs": [],
   "source": [
    "def step_average(a, steps):\n",
    "    b = np.zeros(a.shape)\n",
    "    c = 0\n",
    "    for i in range(len(a)):\n",
    "        c += a[i]\n",
    "        if i >= steps:\n",
    "            c -= a[i-steps]\n",
    "        b[i] = c / min(steps, i+1)\n",
    "    return b"
   ]
  },
  {
   "cell_type": "code",
   "execution_count": null,
   "metadata": {},
   "outputs": [],
   "source": [
    "df_rl = get_tblogs(\"9db51\")"
   ]
  },
  {
   "cell_type": "code",
   "execution_count": null,
   "metadata": {},
   "outputs": [],
   "source": [
    "df_alg = get_tblogs(\"23591\")"
   ]
  },
  {
   "cell_type": "code",
   "execution_count": null,
   "metadata": {},
   "outputs": [],
   "source": [
    "df_rl = df_rl[df_rl.index <= 2000000]\n",
    "df_alg = df_alg[df_alg.index <= 2000000]\n",
    "\n",
    "dfs = [df_rl, df_alg]"
   ]
  },
  {
   "cell_type": "code",
   "execution_count": null,
   "metadata": {},
   "outputs": [],
   "source": [
    "list(map(gen_plot_func(\".*cost/energy\", ylim=[0, 0.03], figure=False, xlabel=\"Time [s]\", ylabel=\"Power [W]\"), dfs))\n",
    "plt.legend([\"RL\", \"Constant\"])\n",
    "plt.title(\"Cooling power\")"
   ]
  },
  {
   "cell_type": "code",
   "execution_count": null,
   "metadata": {},
   "outputs": [],
   "source": [
    "list(map(gen_plot_func(\".*reward\", ylim=[-30, 0], figure=False, xlabel=\"Time [s]\", ylabel=\"Power [W]\"), dfs))\n",
    "plt.legend([\"RL\", \"Constant\"])\n",
    "plt.title(\"Reward\")"
   ]
  },
  {
   "cell_type": "code",
   "execution_count": null,
   "metadata": {},
   "outputs": [],
   "source": [
    "list(map(gen_plot_func(\".job/dropped\", ylim=[0, 0.2], figure=False, xlabel=\"Time [s]\", ylabel=\"Reward\"), dfs))\n",
    "plt.legend([\"RL\", \"Constant\"])\n",
    "plt.title(\"Fraction of jobs dropped\")"
   ]
  },
  {
   "cell_type": "code",
   "execution_count": null,
   "metadata": {},
   "outputs": [],
   "source": [
    "gen_plot_func(\".*srv\\d+/temp_cpu\", xlabel=\"Time [s]\", ylabel=\"Temperature [C]\", title=\"CPU temperature\")(dfs[0])"
   ]
  },
  {
   "cell_type": "code",
   "execution_count": null,
   "metadata": {},
   "outputs": [],
   "source": [
    "list(map(gen_plot_func(\".*srv\\d+/load\", xlabel=\"Time [s]\", ylabel=\"Load [W]\", title=\"Load distribution\"), dfs));"
   ]
  },
  {
   "cell_type": "code",
   "execution_count": null,
   "metadata": {},
   "outputs": [],
   "source": [
    "list(map(gen_plot_func(\".crah0/temp_out\", figure=False, xlabel=\"Time [s]\", ylabel=\"Temperature [C]\"), dfs))\n",
    "plt.legend([\"RL\", \"Constant\"])\n",
    "plt.title(\"CRAH temperature setpoint\")"
   ]
  },
  {
   "cell_type": "code",
   "execution_count": null,
   "metadata": {},
   "outputs": [],
   "source": [
    "list(map(gen_plot_func(\".crah0/flow\", figure=False, xlabel=\"Time [s]\", ylabel=\"Flow [$m^3/s$]\"), dfs))\n",
    "plt.legend([\"RL\", \"Constant\"])\n",
    "plt.title(\"CRAH flow setpoint\")"
   ]
  },
  {
   "cell_type": "code",
   "execution_count": null,
   "metadata": {},
   "outputs": [],
   "source": [
    "list(map(gen_plot_func(\".srv/server_total_flow\", figure=False, xlabel=\"Time [s]\", ylabel=\"Flow [$m^3/s$]\"), dfs))\n",
    "plt.legend([\"RL\", \"Constant\"])\n",
    "plt.title(\"Total flow through servers\")"
   ]
  },
  {
   "cell_type": "code",
   "execution_count": null,
   "metadata": {},
   "outputs": [],
   "source": []
  }
 ]
}